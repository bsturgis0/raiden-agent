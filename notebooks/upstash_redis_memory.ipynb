{
 "cells": [
  {
   "cell_type": "markdown",
   "id": "63095091",
   "metadata": {},
   "source": [
    "# Upstash Redis Chat Message History\n",
    "\n",
    "This notebook demonstrates how to use Upstash Redis as a memory store for chat message history in the Raiden agent.\n",
    "\n",
    "Upstash Redis provides a serverless Redis solution that we can use to persist conversation history."
   ]
  },
  {
   "cell_type": "code",
   "execution_count": null,
   "id": "1639aba5",
   "metadata": {},
   "outputs": [],
   "source": [
    "import os\n",
    "from langchain_community.chat_message_histories import UpstashRedisChatMessageHistory\n",
    "from dotenv import load_dotenv\n",
    "\n",
    "# Load environment variables\n",
    "load_dotenv()\n",
    "\n",
    "# Get Upstash credentials from environment variables\n",
    "UPSTASH_REDIS_REST_URL = os.getenv(\"UPSTASH_REDIS_REST_URL\")\n",
    "UPSTASH_REDIS_REST_TOKEN = os.getenv(\"UPSTASH_REDIS_REST_TOKEN\")"
   ]
  },
  {
   "cell_type": "code",
   "execution_count": null,
   "id": "a7470780",
   "metadata": {},
   "outputs": [],
   "source": [
    "def create_chat_history(session_id: str, ttl: int = 3600) -> UpstashRedisChatMessageHistory:\n",
    "    \"\"\"Create a new chat history instance using Upstash Redis\n",
    "    \n",
    "    Args:\n",
    "        session_id: Unique identifier for the chat session\n",
    "        ttl: Time to live in seconds (default: 1 hour)\n",
    "        \n",
    "    Returns:\n",
    "        UpstashRedisChatMessageHistory instance\n",
    "    \"\"\"\n",
    "    return UpstashRedisChatMessageHistory(\n",
    "        url=UPSTASH_REDIS_REST_URL,\n",
    "        token=UPSTASH_REDIS_REST_TOKEN,\n",
    "        ttl=ttl,\n",
    "        session_id=session_id\n",
    "    )"
   ]
  },
  {
   "cell_type": "code",
   "execution_count": null,
   "id": "4e2a8f77",
   "metadata": {},
   "outputs": [],
   "source": [
    "# Example usage\n",
    "history = create_chat_history(\"demo-session\")\n",
    "\n",
    "# Add some messages\n",
    "history.add_user_message(\"Hello! How can you help me today?\")\n",
    "history.add_ai_message(\"Hello! I'm here to assist you with your questions and tasks.\")\n",
    "\n",
    "# Display the message history\n",
    "print(\"Chat History:\")\n",
    "for message in history.messages:\n",
    "    print(f\"{message.type}: {message.content}\")"
   ]
  }
 ],
 "metadata": {
  "language_info": {
   "name": "python"
  }
 },
 "nbformat": 4,
 "nbformat_minor": 5
}
