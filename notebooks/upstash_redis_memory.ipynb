{
 "cells": [
  {
   "cell_type": "markdown",
   "id": "ce971afa",
   "metadata": {},
   "source": [
    "# Redis Memory Management for Raiden\n",
    "\n",
    "This notebook demonstrates how to implement efficient memory management in Raiden using Upstash Redis for:\n",
    "\n",
    "1. Chat history persistence\n",
    "2. Session management\n",
    "3. Tool output caching\n",
    "4. Rate limiting"
   ]
  },
  {
   "cell_type": "code",
   "execution_count": null,
   "id": "8d5805fb",
   "metadata": {},
   "outputs": [],
   "source": [
    "import os\n",
    "from dotenv import load_dotenv\n",
    "from redis import Redis\n",
    "from langchain_community.chat_message_histories import UpstashRedisChatMessageHistory\n",
    "\n",
    "load_dotenv()\n",
    "\n",
    "# Redis configuration\n",
    "UPSTASH_REDIS_REST_URL = os.getenv(\"UPSTASH_REDIS_REST_URL\")\n",
    "UPSTASH_REDIS_REST_TOKEN = os.getenv(\"UPSTASH_REDIS_REST_TOKEN\")\n",
    "REDIS_TTL = 86400  # 24 hours in seconds"
   ]
  },
  {
   "cell_type": "code",
   "execution_count": null,
   "id": "9a7f679c",
   "metadata": {},
   "outputs": [],
   "source": [
    "def create_chat_history(session_id: str) -> UpstashRedisChatMessageHistory:\n",
    "    \"\"\"Creates a new chat history instance for a session\"\"\"\n",
    "    return UpstashRedisChatMessageHistory(\n",
    "        url=UPSTASH_REDIS_REST_URL,\n",
    "        token=UPSTASH_REDIS_REST_TOKEN,\n",
    "        session_id=session_id,\n",
    "        ttl=REDIS_TTL\n",
    "    )"
   ]
  },
  {
   "cell_type": "code",
   "execution_count": null,
   "id": "7c1c4ea6",
   "metadata": {},
   "outputs": [],
   "source": [
    "# Test chat history\n",
    "history = create_chat_history(\"test-session\")\n",
    "\n",
    "# Add some messages\n",
    "history.add_user_message(\"Hello Raiden!\")\n",
    "history.add_ai_message(\"Hello! How can I assist you today?\")\n",
    "\n",
    "print(\"Chat History:\")\n",
    "for message in history.messages:\n",
    "    print(f\"{message.type}: {message.content}\")"
   ]
  },
  {
   "cell_type": "code",
   "execution_count": null,
   "id": "f1b38cfd",
   "metadata": {},
   "outputs": [],
   "source": [
    "# Example usage\n",
    "history = create_chat_history(\"demo-session\")\n",
    "\n",
    "# Add some messages\n",
    "history.add_user_message(\"Hello! How can you help me today?\")\n",
    "history.add_ai_message(\"Hello! I'm here to assist you with your questions and tasks.\")\n",
    "\n",
    "# Display the message history\n",
    "print(\"Chat History:\")\n",
    "for message in history.messages:\n",
    "    print(f\"{message.type}: {message.content}\")"
   ]
  }
 ],
 "metadata": {
  "language_info": {
   "name": "python"
  }
 },
 "nbformat": 4,
 "nbformat_minor": 5
}
